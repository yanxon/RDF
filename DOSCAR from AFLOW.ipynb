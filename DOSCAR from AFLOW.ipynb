{
 "cells": [
  {
   "cell_type": "code",
   "execution_count": 1,
   "metadata": {
    "collapsed": true
   },
   "outputs": [],
   "source": [
    "from aflow import *\n",
    "import bz2"
   ]
  },
  {
   "cell_type": "code",
   "execution_count": 2,
   "metadata": {
    "collapsed": true
   },
   "outputs": [],
   "source": [
    "#screen particular materials of interest base on the filtering criteria\n",
    "\n",
    "result = search(batch_size = 100\n",
    "        ).select(K.species == 'Ti'\n",
    "        ).filter(K.Egap_type == 'metal'\n",
    "        ).filter(K.nspecies == 2\n",
    "        ).filter(K.natoms == 2)\n",
    "\n",
    "n = len(result) #number of data"
   ]
  },
  {
   "cell_type": "code",
   "execution_count": 6,
   "metadata": {},
   "outputs": [
    {
     "name": "stdout",
     "output_type": "stream",
     "text": [
      "\u001b[36mThe file DOSCAR.static.bz2 has been saved to C:\\Users\\Vinit\\Documents\\data\\0.bz2\u001b[0m\n",
      "\u001b[36mThe file DOSCAR.static.bz2 has been saved to C:\\Users\\Vinit\\Documents\\data\\1.bz2\u001b[0m\n",
      "\u001b[36mThe file DOSCAR.static.bz2 has been saved to C:\\Users\\Vinit\\Documents\\data\\2.bz2\u001b[0m\n",
      "\u001b[36mThe file DOSCAR.static.bz2 has been saved to C:\\Users\\Vinit\\Documents\\data\\3.bz2\u001b[0m\n",
      "\u001b[36mThe file DOSCAR.static.bz2 has been saved to C:\\Users\\Vinit\\Documents\\data\\4.bz2\u001b[0m\n"
     ]
    }
   ],
   "source": [
    "#saving data in your hard drive\n",
    "\n",
    "j = 0\n",
    "for i in result[0:5]:\n",
    "    j = str(j)\n",
    "    path = 'C:/Users/Vinit/Documents/data/'+j+'.bz2'\n",
    "    i.files['DOSCAR.static.bz2'](path)\n",
    "    zipfile = bz2.BZ2File(path) # open the file\n",
    "    data = zipfile.read() # get the decompressed data\n",
    "    newfilepath = path[:-4] # assuming the filepath ends with .bz2\n",
    "    open(newfilepath, 'wb').write(data) # write a uncompressed file\n",
    "    j = int(j)\n",
    "    j += 1"
   ]
  },
  {
   "cell_type": "code",
   "execution_count": 5,
   "metadata": {},
   "outputs": [
    {
     "data": {
      "text/plain": [
       "['AECCAR0.static.bz2',\n",
       " 'AECCAR2.static.bz2',\n",
       " 'Ag1Ti1_ICSD_605937.cif',\n",
       " 'Ag1Ti1_ICSD_605937.png',\n",
       " 'Ag1Ti1_ICSD_605937_BZ.png',\n",
       " 'Ag1Ti1_ICSD_605937_Bader_20_Ag.jvxl',\n",
       " 'Ag1Ti1_ICSD_605937_Bader_20_Ti.jvxl',\n",
       " 'Ag1Ti1_ICSD_605937_Bader_30_Ag.jvxl',\n",
       " 'Ag1Ti1_ICSD_605937_Bader_30_Ti.jvxl',\n",
       " 'Ag1Ti1_ICSD_605937_Bader_40_Ag.jvxl',\n",
       " 'Ag1Ti1_ICSD_605937_Bader_40_Ti.jvxl',\n",
       " 'Ag1Ti1_ICSD_605937_Bader_50_Ag.jvxl',\n",
       " 'Ag1Ti1_ICSD_605937_Bader_50_Ti.jvxl',\n",
       " 'Ag1Ti1_ICSD_605937_DOS.png',\n",
       " 'Ag1Ti1_ICSD_605937_PEDOS_1_2_Ag.png',\n",
       " 'Ag1Ti1_ICSD_605937_PEDOS_2_2_Ti.png',\n",
       " 'Ag1Ti1_ICSD_605937_abader.out',\n",
       " 'Ag1Ti1_ICSD_605937_corner.cif',\n",
       " 'Ag1Ti1_ICSD_605937_sconv.cif',\n",
       " 'Ag1Ti1_ICSD_605937_sconv_corner.cif',\n",
       " 'Ag1Ti1_ICSD_605937_sprim.cif',\n",
       " 'Ag1Ti1_ICSD_605937_sprim_corner.cif',\n",
       " 'CHGCAR.static.bz2',\n",
       " 'CONTCAR.relax',\n",
       " 'CONTCAR.relax.abinit',\n",
       " 'CONTCAR.relax.aims',\n",
       " 'CONTCAR.relax.qe',\n",
       " 'CONTCAR.relax.vasp',\n",
       " 'CONTCAR.relax1',\n",
       " 'DOSCAR.static.bz2',\n",
       " 'EIGENVAL.bands.bz2',\n",
       " 'INCAR.bands',\n",
       " 'KPOINTS.bands',\n",
       " 'KPOINTS.relax',\n",
       " 'KPOINTS.static',\n",
       " 'OUTCAR.static.bz2',\n",
       " 'POSCAR.bands',\n",
       " 'aflowlib.json',\n",
       " 'aflowlib.out',\n",
       " 'edata.bands.out',\n",
       " 'edata.orig.out',\n",
       " 'edata.relax.out',\n",
       " 'index.php\\n']"
      ]
     },
     "execution_count": 5,
     "metadata": {},
     "output_type": "execute_result"
    }
   ],
   "source": [
    "result[0].files"
   ]
  },
  {
   "cell_type": "code",
   "execution_count": null,
   "metadata": {
    "collapsed": true
   },
   "outputs": [],
   "source": []
  }
 ],
 "metadata": {
  "kernelspec": {
   "display_name": "Python 3",
   "language": "python",
   "name": "python3"
  },
  "language_info": {
   "codemirror_mode": {
    "name": "ipython",
    "version": 3
   },
   "file_extension": ".py",
   "mimetype": "text/x-python",
   "name": "python",
   "nbconvert_exporter": "python",
   "pygments_lexer": "ipython3",
   "version": "3.6.2"
  }
 },
 "nbformat": 4,
 "nbformat_minor": 2
}
